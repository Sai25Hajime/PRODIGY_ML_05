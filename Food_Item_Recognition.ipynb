{
  "nbformat": 4,
  "nbformat_minor": 0,
  "metadata": {
    "colab": {
      "provenance": [],
      "authorship_tag": "ABX9TyMazBjM6wHuiSuTNQKqWXWE",
      "include_colab_link": true
    },
    "kernelspec": {
      "name": "python3",
      "display_name": "Python 3"
    },
    "language_info": {
      "name": "python"
    }
  },
  "cells": [
    {
      "cell_type": "markdown",
      "metadata": {
        "id": "view-in-github",
        "colab_type": "text"
      },
      "source": [
        "<a href=\"https://colab.research.google.com/github/Sai25Hajime/PRODIGY_ML_05/blob/main/Food_Item_Recognition.ipynb\" target=\"_parent\"><img src=\"https://colab.research.google.com/assets/colab-badge.svg\" alt=\"Open In Colab\"/></a>"
      ]
    },
    {
      "cell_type": "code",
      "source": [
        "from google.colab import drive\n",
        "drive.mount('/content/drive', force_remount=True)\n",
        "\n"
      ],
      "metadata": {
        "id": "z5xD-31j-vec",
        "colab": {
          "base_uri": "https://localhost:8080/"
        },
        "outputId": "a0c81bc2-1743-469a-b459-3311c1f2692f"
      },
      "execution_count": 11,
      "outputs": [
        {
          "output_type": "stream",
          "name": "stdout",
          "text": [
            "Mounted at /content/drive\n"
          ]
        }
      ]
    },
    {
      "cell_type": "code",
      "execution_count": 12,
      "metadata": {
        "id": "wjfeZjGarNj-",
        "colab": {
          "base_uri": "https://localhost:8080/"
        },
        "outputId": "7b64a56f-52f7-4b75-b2ed-eaef7ab322d1"
      },
      "outputs": [
        {
          "output_type": "stream",
          "name": "stdout",
          "text": [
            "TensorFlow version: 2.17.0\n",
            "GPU is NOT AVAILABLE\n",
            "Found 20267 images belonging to 101 classes.\n",
            "Found 5066 images belonging to 101 classes.\n",
            "Epoch 1/3\n"
          ]
        },
        {
          "output_type": "stream",
          "name": "stderr",
          "text": [
            "/usr/local/lib/python3.10/dist-packages/keras/src/trainers/data_adapters/py_dataset_adapter.py:121: UserWarning: Your `PyDataset` class should call `super().__init__(**kwargs)` in its constructor. `**kwargs` can include `workers`, `use_multiprocessing`, `max_queue_size`. Do not pass these arguments to `fit()`, as they will be ignored.\n",
            "  self._warn_if_super_not_called()\n"
          ]
        },
        {
          "output_type": "stream",
          "name": "stdout",
          "text": [
            "\u001b[1m1266/1266\u001b[0m \u001b[32m━━━━━━━━━━━━━━━━━━━━\u001b[0m\u001b[37m\u001b[0m \u001b[1m1565s\u001b[0m 1s/step - accuracy: 0.5188 - loss: 1.6760 - val_accuracy: 0.6345 - val_loss: 1.1954\n",
            "Epoch 2/3\n",
            "\u001b[1m   1/1266\u001b[0m \u001b[37m━━━━━━━━━━━━━━━━━━━━\u001b[0m \u001b[1m23:44\u001b[0m 1s/step - accuracy: 0.6250 - loss: 1.4178"
          ]
        },
        {
          "output_type": "stream",
          "name": "stderr",
          "text": [
            "/usr/lib/python3.10/contextlib.py:153: UserWarning: Your input ran out of data; interrupting training. Make sure that your dataset or generator can generate at least `steps_per_epoch * epochs` batches. You may need to use the `.repeat()` function when building your dataset.\n",
            "  self.gen.throw(typ, value, traceback)\n"
          ]
        },
        {
          "output_type": "stream",
          "name": "stdout",
          "text": [
            "\b\b\b\b\b\b\b\b\b\b\b\b\b\b\b\b\b\b\b\b\b\b\b\b\b\b\b\b\b\b\b\b\b\b\b\b\b\b\b\b\b\b\b\b\b\b\b\b\b\b\b\b\b\b\b\b\b\b\b\b\b\b\b\b\b\b\b\b\b\b\b\b\b\b\b\b\b\b\r\u001b[1m1266/1266\u001b[0m \u001b[32m━━━━━━━━━━━━━━━━━━━━\u001b[0m\u001b[37m\u001b[0m \u001b[1m3s\u001b[0m 1ms/step - accuracy: 0.6250 - loss: 1.4178 - val_accuracy: 0.7000 - val_loss: 0.9643\n",
            "Epoch 3/3\n",
            "\u001b[1m1266/1266\u001b[0m \u001b[32m━━━━━━━━━━━━━━━━━━━━\u001b[0m\u001b[37m\u001b[0m \u001b[1m1557s\u001b[0m 1s/step - accuracy: 0.6813 - loss: 1.0260 - val_accuracy: 0.6697 - val_loss: 1.0839\n",
            "\u001b[1m1/1\u001b[0m \u001b[32m━━━━━━━━━━━━━━━━━━━━\u001b[0m\u001b[37m\u001b[0m \u001b[1m2s\u001b[0m 2s/step\n",
            "Predicted Food: poutine\n",
            "Estimated Calories: Unknown kcal\n"
          ]
        }
      ],
      "source": [
        "# Import necessary libraries\n",
        "import numpy as np\n",
        "import pandas as pd\n",
        "import tensorflow as tf\n",
        "from tensorflow.keras.models import Sequential, load_model\n",
        "from tensorflow.keras.layers import Dense, GlobalAveragePooling2D\n",
        "from tensorflow.keras.preprocessing.image import ImageDataGenerator\n",
        "from tensorflow.keras.applications import MobileNetV2\n",
        "from sklearn.model_selection import train_test_split\n",
        "import matplotlib.pyplot as plt\n",
        "import os\n",
        "\n",
        "# Check if GPU is available\n",
        "print(f\"TensorFlow version: {tf.__version__}\")\n",
        "print(\"GPU is\", \"available\" if tf.config.list_physical_devices('GPU') else \"NOT AVAILABLE\")\n",
        "\n",
        "# Set up paths\n",
        "data_dir = '/content/drive/MyDrive/Datasets/food-101/images'  # Update with your actual path\n",
        "\n",
        "# Data Augmentation and Data Generators\n",
        "datagen = ImageDataGenerator(\n",
        "    rescale=1./255,\n",
        "    validation_split=0.2,  # 20% data for validation\n",
        "    shear_range=0.2,\n",
        "    zoom_range=0.2,\n",
        "    horizontal_flip=True\n",
        ")\n",
        "\n",
        "train_generator = datagen.flow_from_directory(\n",
        "    data_dir,\n",
        "    target_size=(224, 224),\n",
        "    batch_size=16,  # Reduced batch size\n",
        "    class_mode='categorical',\n",
        "    subset='training'\n",
        ")\n",
        "\n",
        "validation_generator = datagen.flow_from_directory(\n",
        "    data_dir,\n",
        "    target_size=(224, 224),\n",
        "    batch_size=16,  # Reduced batch size\n",
        "    class_mode='categorical',\n",
        "    subset='validation'\n",
        ")\n",
        "\n",
        "# Load pre-trained MobileNetV2 model + higher level layers\n",
        "base_model = MobileNetV2(weights='imagenet', include_top=False, input_shape=(224, 224, 3))\n",
        "\n",
        "# Freeze the base model\n",
        "base_model.trainable = False\n",
        "\n",
        "# Add custom layers on top\n",
        "model = Sequential([\n",
        "    base_model,\n",
        "    GlobalAveragePooling2D(),\n",
        "    Dense(1024, activation='relu'),\n",
        "    Dense(101, activation='softmax')  # 101 food classes\n",
        "])\n",
        "\n",
        "# Compile the model\n",
        "model.compile(optimizer='adam', loss='categorical_crossentropy', metrics=['accuracy'])\n",
        "\n",
        "# Setup callbacks for efficiency\n",
        "from tensorflow.keras.callbacks import EarlyStopping, ModelCheckpoint\n",
        "\n",
        "callbacks = [\n",
        "    EarlyStopping(monitor='val_loss', patience=2),\n",
        "    ModelCheckpoint('/content/drive/MyDrive/Datasets/food_recognition_model.keras', save_best_only=True)\n",
        "]\n",
        "\n",
        "# Train the model with reduced epochs, batch size, and callbacks\n",
        "history = model.fit(\n",
        "    train_generator,\n",
        "    validation_data=validation_generator,\n",
        "    epochs=3,  # Reduced epochs\n",
        "    steps_per_epoch=train_generator.samples // 16,  # Updated batch size\n",
        "    validation_steps=validation_generator.samples // 16,  # Updated batch size\n",
        "    callbacks=callbacks\n",
        ")\n",
        "\n",
        "# Save the trained model to Google Drive\n",
        "model.save('/content/drive/MyDrive/Datasets/food_recognition_model.keras')\n",
        "\n",
        "# Example calorie mapping (replace with actual calorie values for all 101 classes)\n",
        "calorie_mapping = {\n",
        "    'apple_pie': 265,\n",
        "    'pizza': 285,\n",
        "    # Add mappings for all 101 classes\n",
        "}\n",
        "\n",
        "# Function to predict food item and estimate calories\n",
        "def predict_and_estimate_calories(image_path, model):\n",
        "    img = tf.keras.preprocessing.image.load_img(image_path, target_size=(224, 224))\n",
        "    img_array = tf.keras.preprocessing.image.img_to_array(img) / 255.0\n",
        "    img_array = np.expand_dims(img_array, axis=0)\n",
        "\n",
        "    prediction = model.predict(img_array)\n",
        "    predicted_class = np.argmax(prediction, axis=1)\n",
        "    predicted_food = list(train_generator.class_indices.keys())[predicted_class[0]]\n",
        "\n",
        "    estimated_calories = calorie_mapping.get(predicted_food, \"Unknown\")\n",
        "\n",
        "    print(f\"Predicted Food: {predicted_food}\")\n",
        "    print(f\"Estimated Calories: {estimated_calories} kcal\")\n",
        "\n",
        "# Example usage of the prediction function\n",
        "# Replace 'path_to_test_image.jpg' with the actual path to the test image\n",
        "test_image_path = '/content/drive/MyDrive/Datasets/food-101/images/apple_pie/100.jpg'  # Example image path\n",
        "predict_and_estimate_calories(test_image_path, model)\n"
      ]
    }
  ]
}